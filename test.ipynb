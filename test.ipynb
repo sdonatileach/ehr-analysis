{
 "cells": [
  {
   "cell_type": "markdown",
   "metadata": {},
   "source": [
    "# Computational complexity/Data structures\n",
    "\n",
    "Develop a Python module that provides some simple analytical capabilities on some (synthetic) EHR data. This is provided as:\n",
    "\n",
    "* A table of patients with demographic data: `PatientCorePopulatedTable.txt`\n",
    "* A table of laboratory results: `LabsCorePopulatedTable.txt`\n",
    "\n",
    "## Data parsing\n",
    "\n",
    "Define a function `parse_data(filename: str) -> ???` that reads and parses the data files. Choose appropriate data structures such that the expected analyses (below) are efficient.\n",
    "\n",
    "Include a module docstring describing your rationale for choosing these data structures.\n",
    "\n",
    "Include a function docstring analyzing the computational complexity of the data parser.\n",
    "\n",
    "## Analysis\n",
    "\n",
    "Define the following functions to interrogate the data. In each one, include a function docstring describing its computational complexity _at runtime_ (i.e. after parsing into the global data structures).\n",
    "\n",
    "### Old patients\n",
    "\n",
    "The function `num_older_than(age, ???)` should take the data and return the number of patients older than a given age (in years). For example,\n",
    "\n",
    "```python\n",
    ">> num_older_than(51.2)\n",
    "52\n",
    "```\n",
    "\n",
    "### Sick patients\n",
    "\n",
    "The function `sick_patients(lab, gt_lt, value, ???)` should take the data and return a (unique) list of patients who have a given test with value above (\">\") or below (\"<\") a given level. For example,\n",
    "\n",
    "```python\n",
    ">> sick_patients(\"METABOLIC: ALBUMIN\", \">\", 4.0)\n",
    "[\"FB2ABB23-C9D0-4D09-8464-49BF0B982F0F\", \"64182B95-EB72-4E2B-BE77-8050B71498CE\"]\n",
    "```\n",
    "\n",
    "## Notes\n",
    "\n",
    "All of this should be generalizable, i.e. it should be designed to work with files with these formats, not just these _specific_ files. State (in module/function docstrings) any assumptions that you make about the input data.\n",
    "\n",
    "When describing computational complexity, document your thought process in detail. For example:\n",
    "\n",
    "> 5 is added to `element`, which is a single operation. This operation is performed twice for each element, leading to 2N operations. For big-O analysis, we drop the constant factor, yielding O(N) complexity.\n",
    "\n",
    "You may like to use the `datetime` (standard) library. _Do not import any other libraries._\n",
    "\n",
    "Your submission should be a single file titled `ehr_analysis.py`.\n",
    "\n",
    "## Submission\n",
    "\n",
    "1. Create a _private_ GitHub repository.\n",
    "2. Invite `patrickkwang` to collaborate.\n",
    "3. Create a branch called `part1` and complete this assignment there.\n",
    "4. Make a pull request `part1` -> `main`. _DO NOT MERGE IT._\n",
    "5. Request a review from `patrickkwang`.\n",
    "6. Submit the link to your repository on Sakai by the due date."
   ]
  },
  {
   "cell_type": "code",
   "execution_count": 1,
   "metadata": {},
   "outputs": [],
   "source": [
    "import pandas as pd\n",
    "\n",
    "labs= pd.read_csv(\"/mnt/c/Users/sdona/Documents/Duke/22Spring/821BIOSTAT/03Assignment/LabsCorePopulatedTable.txt\", sep=\"\\t\")\n",
    "patient = pd.read_csv(\"/mnt/c/Users/sdona/Documents/Duke/22Spring/821BIOSTAT/03Assignment/PatientCorePopulatedTable.txt\", sep=\"\\t\")"
   ]
  },
  {
   "cell_type": "code",
   "execution_count": null,
   "metadata": {},
   "outputs": [],
   "source": [
    "labs.to_csv(\"/mnt/c/Users/sdona/Documents/Duke/22Spring/\"\n",
    "\"821BIOSTAT/03Assignment/Labs.txt\", sep=\"\\t\")\n",
    "\n",
    "patient.to_csv(\"/mnt/c/Users/sdona/Documents/Duke/22Spring/\"\n",
    "\"821BIOSTAT/03Assignment/Patient.txt\", sep=\"\\t\")"
   ]
  },
  {
   "cell_type": "code",
   "execution_count": 2,
   "metadata": {},
   "outputs": [],
   "source": [
    "delimiter = \"\\t\""
   ]
  },
  {
   "cell_type": "code",
   "execution_count": 3,
   "metadata": {},
   "outputs": [],
   "source": [
    "file = open(\"/mnt/c/Users/sdona/Documents/Duke/22Spring/821BIOSTAT/03Assignment/LabsCorePopulatedTable.txt\", \"r\",  encoding=\"UTF-8-sig\")\n",
    "data = file.readlines()\n",
    "count = len(data)\n",
    "rows = []\n",
    "records = []\n",
    "columns = []\n",
    "data_dict = dict()\n",
    "for i in data:\n",
    "    rows.append(i.strip(\"\\n\"))\n",
    "for i in range(count):\n",
    "    if i == 0:\n",
    "        columns.append(rows[i].split(delimiter))\n",
    "    else:\n",
    "        records.append(rows[i].split(delimiter))\n",
    "\n",
    "for i in range(len(columns[0])):\n",
    "    values = []\n",
    "    for j in range(len(records)):\n",
    "        values.append(records[j][i])  \n",
    "    data_dict[columns[0][i]] = values        "
   ]
  },
  {
   "cell_type": "code",
   "execution_count": 4,
   "metadata": {},
   "outputs": [],
   "source": [
    "import datetime"
   ]
  },
  {
   "cell_type": "code",
   "execution_count": 5,
   "metadata": {},
   "outputs": [],
   "source": [
    "# dates = data_dict[\"PatientDateOfBirth\"]\n",
    "# dates_2 = [datetime.datetime.strptime(i, \"%Y-%m-%d %H:%M:%S.%f\") for i in dates]\n",
    "# today = datetime.datetime.today()"
   ]
  },
  {
   "cell_type": "code",
   "execution_count": 6,
   "metadata": {},
   "outputs": [],
   "source": [
    "# age_days = []\n",
    "# age_years = []\n",
    "# for i in range(len(dates_2)):\n",
    "#     age_days.append(today - dates_2[i])\n",
    "#     age_years.append(age_days[i].days/365.25)\n",
    "# data_dict[\"PatientDateOfBirth\"] = age_years"
   ]
  },
  {
   "cell_type": "code",
   "execution_count": 7,
   "metadata": {},
   "outputs": [],
   "source": [
    "# age = 51.2\n",
    "# older = []\n",
    "# for i in range(len(data_dict[\"PatientDateOfBirth\"])):\n",
    "#     if data_dict[\"PatientDateOfBirth\"][i] > age:\n",
    "#         older.append(data_dict[\"PatientID\"][i])\n",
    "# print(len(older))"
   ]
  },
  {
   "cell_type": "code",
   "execution_count": 8,
   "metadata": {},
   "outputs": [
    {
     "data": {
      "text/plain": [
       "array(['CBC: ABSOLUTE LYMPHOCYTES', 'CBC: ABSOLUTE NEUTROPHILS',\n",
       "       'CBC: BASOPHILS', 'CBC: EOSINOPHILS', 'CBC: HEMATOCRIT',\n",
       "       'CBC: HEMOGLOBIN', 'CBC: LYMPHOCYTES', 'CBC: MCH', 'CBC: MCHC',\n",
       "       'CBC: MEAN CORPUSCULAR VOLUME', 'CBC: MONOCYTES',\n",
       "       'CBC: NEUTROPHILS', 'CBC: PLATELET COUNT', 'CBC: RDW',\n",
       "       'CBC: RED BLOOD CELL COUNT', 'CBC: WHITE BLOOD CELL COUNT',\n",
       "       'METABOLIC: ALBUMIN', 'METABOLIC: ALK PHOS', 'METABOLIC: ALT/SGPT',\n",
       "       'METABOLIC: ANION GAP', 'METABOLIC: AST/SGOT',\n",
       "       'METABOLIC: BILI TOTAL', 'METABOLIC: BUN', 'METABOLIC: CALCIUM',\n",
       "       'METABOLIC: CARBON DIOXIDE', 'METABOLIC: CHLORIDE',\n",
       "       'METABOLIC: CREATININE', 'METABOLIC: GLUCOSE',\n",
       "       'METABOLIC: POTASSIUM', 'METABOLIC: SODIUM',\n",
       "       'METABOLIC: TOTAL PROTEIN', 'URINALYSIS: PH',\n",
       "       'URINALYSIS: RED BLOOD CELLS', 'URINALYSIS: SPECIFIC GRAVITY',\n",
       "       'URINALYSIS: WHITE BLOOD CELLS'], dtype=object)"
      ]
     },
     "execution_count": 8,
     "metadata": {},
     "output_type": "execute_result"
    }
   ],
   "source": [
    "import numpy as np\n",
    "\n",
    "np.unique(labs[\"LabName\"])"
   ]
  },
  {
   "cell_type": "code",
   "execution_count": 9,
   "metadata": {},
   "outputs": [
    {
     "data": {
      "text/plain": [
       "array([2.5, 2.6, 2.7, 2.8, 2.9, 3. , 3.1, 3.2, 3.3, 3.4, 3.5, 3.6, 3.7,\n",
       "       3.8, 3.9, 4. , 4.1, 4.2, 4.3, 4.4, 4.5, 4.6, 4.7, 4.8, 4.9, 5. ,\n",
       "       5.1, 5.2, 5.3, 5.4, 5.5, 5.6, 5.7, 5.8, 5.9, 6. ])"
      ]
     },
     "execution_count": 9,
     "metadata": {},
     "output_type": "execute_result"
    }
   ],
   "source": [
    "import numpy as np\n",
    "np.unique(labs[labs[\"LabName\"]==\"METABOLIC: ALBUMIN\"].LabValue)"
   ]
  },
  {
   "cell_type": "code",
   "execution_count": 10,
   "metadata": {},
   "outputs": [
    {
     "data": {
      "text/plain": [
       "42"
      ]
     },
     "execution_count": 10,
     "metadata": {},
     "output_type": "execute_result"
    }
   ],
   "source": [
    "albumin = labs[labs[\"LabName\"]==\"METABOLIC: ALBUMIN\"]\n",
    "albumin_values = albumin[albumin[\"LabValue\"] > 5.9]\n",
    "albumin[albumin[\"LabValue\"]> 5.9].PatientID.nunique()"
   ]
  },
  {
   "cell_type": "code",
   "execution_count": 19,
   "metadata": {},
   "outputs": [],
   "source": [
    "lab = \"METABOLIC: ALBUMIN\"\n",
    "gt_lt = \">\"\n",
    "value = 5.9"
   ]
  },
  {
   "cell_type": "code",
   "execution_count": 20,
   "metadata": {},
   "outputs": [
    {
     "name": "stdout",
     "output_type": "stream",
     "text": [
      "['0BC491C5-5A45-4067-BD11-A78BEA00D3BE', '220C8D43-1322-4A9D-B890-D426942A3649', '81C5B13B-F6B2-4E57-9593-6E7E4C13B2CE', '69B5D2A0-12FD-46EF-A5FF-B29C4BAFBE49', '8D389A8C-A6D8-4447-9DDE-1A28AB4EC667', '49DADA25-F2C2-42BB-8210-D78E6C7B0D48', 'B5D31F01-7273-4901-B56F-8139769A11EF', '80D356B4-F974-441F-A5F2-F95986D119A2', '016A590E-D093-4667-A5DA-D68EA6987D93', 'B2EB15FA-5431-4804-9309-4215BDC778C0', '53B9FFDD-F80B-43BE-93CF-C34A023EE7E9', '35FE7491-1A1D-48CB-810C-8DC2599AB3DD', '56A35E74-90BE-44A0-B7BA-7743BB152133', '21792512-2D40-4326-BEA2-A40127EB24FF', '2EE42DEF-37CA-4694-827E-FA4EAF882BFC', '4C201C71-CCED-40D1-9642-F9C8C485B854', 'C65A4ADE-112E-49E4-B72A-0DED22C242ED', '7A025E77-7832-4F53-B9A7-09A3F98AC17E', 'DDC0BC57-7A4E-4E02-9282-177750B74FBC', '9C75DF1F-9DA6-4C98-8F5B-E10BDC805ED0', 'A19A0B00-4C9A-4206-B1FE-17E6DA3CEB0B', '66154E24-D3EE-4311-89DB-6195278F9B3C', 'CC9CDA72-B37A-4F8F-AFE4-B08F56A183BE', '3E462A8F-7B90-43A1-A8B6-AD82CB5002C9', '6D5DCAC1-17FE-4D7C-923B-806EFBA3E6DF', '03A481F5-B32A-4A91-BD42-43EB78FEBA77', '8AF47463-8534-4203-B210-C2290F6CE689', '6623F5D6-D581-4268-9F9B-21612FBBF7B5', 'FB909FAE-72DD-4F6F-9828-D92183DF185F', '64182B95-EB72-4E2B-BE77-8050B71498CE', 'DB22A4D9-7E4D-485C-916A-9CD1386507FB', '6E70D84D-C75F-477C-BC37-9177C3698C66', '7FD13988-E58A-4A5C-8680-89AC200950FA', 'B39DC5AC-E003-4E6A-91B6-FC07625A1285', 'DA6CECFF-DE13-4C4C-919F-64E1A2B76C9D', '0A9BA3E4-CF3C-49C4-9774-5EEA2EE7D123', '7C788499-7798-484B-A027-9FCDC4C0DADB', '6985D824-3269-4D12-A9DD-B932D640E26E', 'D8B53AA2-7953-4477-9EA4-68400EBAAC5C', 'DB92CDC6-FA9B-4492-BC2C-0C588AD78956', '25B786AF-0F99-478C-9CFA-0EA607E45834', 'B70E5A76-F2BC-41E4-B037-CD4D9ABA0967']\n"
     ]
    }
   ],
   "source": [
    "values = []\n",
    "for i in range(len(data_dict[\"PatientID\"])):\n",
    "    for (key, value_pair) in data_dict.items():\n",
    "        if value_pair[i] == lab:\n",
    "            if gt_lt == \">\":\n",
    "                if data_dict[\"LabValue\"][i] > str(value):\n",
    "                    if data_dict[\"PatientID\"][i] not in values:\n",
    "                        values.append(data_dict[\"PatientID\"][i])\n",
    "            elif gt_lt == \"<\":\n",
    "                if data_dict[\"LabValue\"][i] < str(value):\n",
    "                    if data_dict[\"PatientID\"][i] not in values:\n",
    "                        values.append(data_dict[\"PatientID\"][i])\n",
    "            else:\n",
    "                raise ValueError(\"Please enter a valid operator\")\n",
    "print(values)"
   ]
  },
  {
   "cell_type": "code",
   "execution_count": null,
   "metadata": {},
   "outputs": [],
   "source": []
  }
 ],
 "metadata": {
  "interpreter": {
   "hash": "a5fa5bd36f651f0d089d7e3c06c55a704c6de3098e78a622ff8f418ae48f3aa5"
  },
  "kernelspec": {
   "display_name": "Python 3.9.7 64-bit ('geo': conda)",
   "language": "python",
   "name": "python3"
  },
  "language_info": {
   "codemirror_mode": {
    "name": "ipython",
    "version": 3
   },
   "file_extension": ".py",
   "mimetype": "text/x-python",
   "name": "python",
   "nbconvert_exporter": "python",
   "pygments_lexer": "ipython3",
   "version": "3.9.7"
  },
  "orig_nbformat": 4
 },
 "nbformat": 4,
 "nbformat_minor": 2
}
